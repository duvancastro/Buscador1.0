{
  "nbformat": 4,
  "nbformat_minor": 0,
  "metadata": {
    "colab": {
      "name": "Untitled3.ipynb",
      "provenance": [],
      "authorship_tag": "ABX9TyOcUIv1LDohOGokWnywVihv",
      "include_colab_link": true
    },
    "kernelspec": {
      "name": "python3",
      "display_name": "Python 3"
    },
    "language_info": {
      "name": "python"
    }
  },
  "cells": [
    {
      "cell_type": "markdown",
      "metadata": {
        "id": "view-in-github",
        "colab_type": "text"
      },
      "source": [
        "<a href=\"https://colab.research.google.com/github/duvancastro/Buscador1.0/blob/main/pruebadeguardado.ipynb\" target=\"_parent\"><img src=\"https://colab.research.google.com/assets/colab-badge.svg\" alt=\"Open In Colab\"/></a>"
      ]
    },
    {
      "cell_type": "code",
      "source": [
        "graph={}\n",
        "\n",
        "\n",
        "def llenar():\n",
        "  \n",
        "    nodo_conexiones=[]\n",
        "\n",
        "    n=int(input(\"Digite la cantidad de nodos  \"))\n",
        "    for i in range(n):\n",
        "        valor=input(\"Digite el nombre del nodo en mayuscula \"+str(i)+str(\"    \"))\n",
        "        nodo=valor\n",
        "        rpta=int(input(\"Desea agregar nodo de caminos 1.-SI 2.-NO   \"))\n",
        "        if(rpta==1):\n",
        "            estado=True\n",
        "            while(estado==True):\n",
        "                print((\"Digite el nombre del nodo en mayuscula   \"))\n",
        "                nodo_unir=input()\n",
        "                nodo_conexiones.append(nodo_unir)\n",
        "                print(nodo_conexiones)\n",
        "                rpta=int(input(\"Desea agregar nodo de caminos 1.-SI 2.-NO  \" ))\n",
        "                if(rpta==1):\n",
        "                    estado=True\n",
        "                else:\n",
        "                    estado=False\n",
        "\n",
        "        else:\n",
        "            print(\"No agrega nodos\")\n",
        "\n",
        "        graph.update({nodo: set(nodo_conexiones)})\n",
        "        nodo_conexiones.clear()\n",
        "        print(graph)\n",
        "\n",
        "\n",
        "# Return all graphs from start to goal\n",
        "def dfs_paths(graph, start, goal):\n",
        "    # Define stack variable\n",
        "    stack = [[start]]\n",
        "    # Do the process while there are paths to follow\n",
        "    while stack:\n",
        "        path = stack.pop()\n",
        "        node = path[-1]\n",
        "        for next in graph[node] - set(path):\n",
        "            # If a correct path is founded, then return the path with the generator\n",
        "            # else write a new path and follow iterating.\n",
        "            if next == goal:\n",
        "                yield path + [next]\n",
        "            else:\n",
        "                stack.append(path + [next])\n",
        "\n",
        "# Print paths\n",
        "llenar()\n",
        "vi=input(\"Digite el nodo inicial del recorrido    \")\n",
        "vf=input(\"Digite el nodo final del recorrido    \")\n",
        "print (list(dfs_paths(graph, vi, vf)))"
      ],
      "metadata": {
        "id": "WD3P2rUkSpI_"
      },
      "execution_count": null,
      "outputs": []
    }
  ]
}